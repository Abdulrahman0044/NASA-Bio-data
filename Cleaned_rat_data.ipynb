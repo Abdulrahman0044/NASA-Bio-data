{
 "cells": [
  {
   "cell_type": "code",
   "execution_count": 1,
   "id": "aa09c1df",
   "metadata": {},
   "outputs": [],
   "source": [
    "# Import the necessary libraries\n",
    "import pandas as pd\n",
    "import numpy as np\n",
    "import os"
   ]
  },
  {
   "cell_type": "code",
   "execution_count": 2,
   "id": "00a77ba2",
   "metadata": {},
   "outputs": [],
   "source": [
    "# Loading the data\n",
    "file_dir = r\"C:\\Users\\HP\\Documents\\rat_biomed_data\"\n",
    "csv_files = [\"adrenal.csv\", \"blood-rna.csv\", \n",
    "             \"brown-adipose.csv\", \"colon.csv\", \"cortex.csv\", \n",
    "             \"endurance_phenotype.csv\", \"gastrocnemius.csv\", \n",
    "             \"heart.csv\", \"hippocampus.csv\", \n",
    "             \"hypothalamus.csv\", \"kidney.csv\",\n",
    "             \"liver.csv\", \"lung.csv\",\n",
    "             \"ovaries.csv\", \"smallintestine.csv\",\n",
    "             \"spleen.csv\", \"testes.csv\",\n",
    "             \"vastus.csv\", \"vena-cava.csv\", \"white-adipose.csv\"\n",
    "            ]"
   ]
  },
  {
   "cell_type": "code",
   "execution_count": 3,
   "id": "35fcd714",
   "metadata": {},
   "outputs": [
    {
     "name": "stderr",
     "output_type": "stream",
     "text": [
      "C:\\Users\\HP\\AppData\\Local\\Temp\\ipykernel_17292\\226248416.py:6: DtypeWarning: Columns (38,42,43,49,81,82,109,119,129,139,149,159,169,179,189,199,200,202,209,210,212,219,220,222,229,230,232,239,240,242,249,250,252,259,260,262,269,270,272,279,280,282,289,290,292,299,300,302,309,310,312,319,320,322,329,330,332,339,340,342,349,350,352,359,360,362,369,370,372,379,380,382,389,390,392,399,400,402,409,410,412,419,420,422,429,430,432,439,440,442,449,450,452,459,460,462,469,470,472,479,480,482,489,490,492,499,515,516,520,521,523,529,531,550) have mixed types. Specify dtype option on import or set low_memory=False.\n",
      "  dataframes[dataframe_name] = pd.read_csv(file_path)\n"
     ]
    }
   ],
   "source": [
    "# Creating the dataframes for the files\n",
    "dataframes = {}\n",
    "for all_files in csv_files:\n",
    "    file_path = os.path.join(file_dir, all_files)\n",
    "    dataframe_name = os.path.splitext(all_files)[0]\n",
    "    dataframes[dataframe_name] = pd.read_csv(file_path)"
   ]
  },
  {
   "cell_type": "code",
   "execution_count": 4,
   "id": "e64c6eba",
   "metadata": {},
   "outputs": [
    {
     "name": "stdout",
     "output_type": "stream",
     "text": [
      "              gene_id  90237016002  90406016002  90292016002  90576016002  \\\n",
      "0  ENSRNOG00000000001          0.0          4.0          3.0          5.0   \n",
      "1  ENSRNOG00000000007          0.0          1.0          0.0          1.0   \n",
      "2  ENSRNOG00000000008         12.0          7.0          0.0          8.0   \n",
      "3  ENSRNOG00000000009          0.0          0.0          0.0          0.0   \n",
      "4  ENSRNOG00000000010          0.0          0.0          1.0          0.0   \n",
      "\n",
      "   90416016002  90225016002  90254016002  90441016002  90571016002  ...  \\\n",
      "0          5.0          1.0          2.0          4.0          3.0  ...   \n",
      "1          0.0          0.0          2.0          0.0          6.0  ...   \n",
      "2          8.0         11.0         11.0         13.0         88.0  ...   \n",
      "3          0.0          0.0          0.0          0.0          0.0  ...   \n",
      "4          0.0          1.0          1.0          2.0          2.0  ...   \n",
      "\n",
      "   90267016002  90423016002  90289016002  90421016002  90410016002  \\\n",
      "0          1.0          2.0          3.0          1.0          4.0   \n",
      "1          0.0          1.0          1.0          0.0          0.0   \n",
      "2         10.0          9.0          6.0          6.0         12.0   \n",
      "3          0.0          0.0          0.0          0.0          0.0   \n",
      "4          1.0          0.0          0.0          1.0          2.0   \n",
      "\n",
      "   90280016002  90567016002  90229016002  90258016002  90426016002  \n",
      "0          2.0          5.0          2.0          1.0          2.0  \n",
      "1          0.0          0.0          0.0          0.0          4.0  \n",
      "2          9.0         10.0         16.0          7.0         15.0  \n",
      "3          0.0          1.0          0.0          0.0          0.0  \n",
      "4          4.0          0.0          0.0          2.0          4.0  \n",
      "\n",
      "[5 rows x 53 columns]\n",
      "\n",
      "successfully printed!\n"
     ]
    }
   ],
   "source": [
    "# Checking the files\n",
    "adrenal = dataframes['adrenal']\n",
    "print(adrenal.head())\n",
    "print(\"\\nsuccessfully printed!\")"
   ]
  },
  {
   "cell_type": "code",
   "execution_count": 5,
   "id": "25e88d3c",
   "metadata": {},
   "outputs": [
    {
     "name": "stdout",
     "output_type": "stream",
     "text": [
      "<class 'pandas.core.frame.DataFrame'>\n",
      "RangeIndex: 32785 entries, 0 to 32784\n",
      "Data columns (total 53 columns):\n",
      " #   Column       Non-Null Count  Dtype  \n",
      "---  ------       --------------  -----  \n",
      " 0   gene_id      32785 non-null  object \n",
      " 1   90237016002  32785 non-null  float64\n",
      " 2   90406016002  32785 non-null  float64\n",
      " 3   90292016002  32785 non-null  float64\n",
      " 4   90576016002  32785 non-null  float64\n",
      " 5   90416016002  32785 non-null  float64\n",
      " 6   90225016002  32785 non-null  float64\n",
      " 7   90254016002  32785 non-null  float64\n",
      " 8   90441016002  32785 non-null  float64\n",
      " 9   90571016002  32785 non-null  float64\n",
      " 10  90444016002  32783 non-null  float64\n",
      " 11  90578016002  32785 non-null  float64\n",
      " 12  90587016002  32784 non-null  float64\n",
      " 13  90450016002  32783 non-null  float64\n",
      " 14  90449016002  32783 non-null  float64\n",
      " 15  90222016002  32783 non-null  float64\n",
      " 16  80040886026  32783 non-null  float64\n",
      " 17  80041996024  32783 non-null  float64\n",
      " 18  90248016002  32783 non-null  float64\n",
      " 19  90265016002  32783 non-null  float64\n",
      " 20  90420016002  32783 non-null  float64\n",
      " 21  90564016002  32783 non-null  float64\n",
      " 22  90217016002  32782 non-null  float64\n",
      " 23  90266016002  32782 non-null  float64\n",
      " 24  90227016002  32782 non-null  float64\n",
      " 25  90281016002  32782 non-null  float64\n",
      " 26  90412016002  32782 non-null  float64\n",
      " 27  90439016002  32782 non-null  float64\n",
      " 28  90239016002  32782 non-null  float64\n",
      " 29  90559016002  32782 non-null  float64\n",
      " 30  90252016002  32782 non-null  float64\n",
      " 31  90581016002  32781 non-null  float64\n",
      " 32  90245016002  32781 non-null  float64\n",
      " 33  90283016002  32781 non-null  float64\n",
      " 34  90232016002  32781 non-null  float64\n",
      " 35  90430016002  32781 non-null  float64\n",
      " 36  90223016002  32780 non-null  float64\n",
      " 37  90218016002  32779 non-null  float64\n",
      " 38  90259016002  32779 non-null  float64\n",
      " 39  90585016002  32778 non-null  float64\n",
      " 40  90560016002  32778 non-null  float64\n",
      " 41  90251016002  32777 non-null  float64\n",
      " 42  90422016002  32777 non-null  float64\n",
      " 43  90267016002  32777 non-null  float64\n",
      " 44  90423016002  32777 non-null  float64\n",
      " 45  90289016002  32777 non-null  float64\n",
      " 46  90421016002  32777 non-null  float64\n",
      " 47  90410016002  32777 non-null  float64\n",
      " 48  90280016002  32777 non-null  float64\n",
      " 49  90567016002  32775 non-null  float64\n",
      " 50  90229016002  32774 non-null  float64\n",
      " 51  90258016002  32774 non-null  float64\n",
      " 52  90426016002  32774 non-null  float64\n",
      "dtypes: float64(52), object(1)\n",
      "memory usage: 13.3+ MB\n"
     ]
    }
   ],
   "source": [
    "# let's check information about the data\n",
    "adrenal.info()"
   ]
  },
  {
   "cell_type": "code",
   "execution_count": 6,
   "id": "d6b3cf8e",
   "metadata": {},
   "outputs": [
    {
     "data": {
      "text/html": [
       "<div>\n",
       "<style scoped>\n",
       "    .dataframe tbody tr th:only-of-type {\n",
       "        vertical-align: middle;\n",
       "    }\n",
       "\n",
       "    .dataframe tbody tr th {\n",
       "        vertical-align: top;\n",
       "    }\n",
       "\n",
       "    .dataframe thead th {\n",
       "        text-align: right;\n",
       "    }\n",
       "</style>\n",
       "<table border=\"1\" class=\"dataframe\">\n",
       "  <thead>\n",
       "    <tr style=\"text-align: right;\">\n",
       "      <th></th>\n",
       "      <th>90237016002</th>\n",
       "      <th>90406016002</th>\n",
       "      <th>90292016002</th>\n",
       "      <th>90576016002</th>\n",
       "      <th>90416016002</th>\n",
       "      <th>90225016002</th>\n",
       "      <th>90254016002</th>\n",
       "      <th>90441016002</th>\n",
       "      <th>90571016002</th>\n",
       "      <th>90444016002</th>\n",
       "      <th>...</th>\n",
       "      <th>90267016002</th>\n",
       "      <th>90423016002</th>\n",
       "      <th>90289016002</th>\n",
       "      <th>90421016002</th>\n",
       "      <th>90410016002</th>\n",
       "      <th>90280016002</th>\n",
       "      <th>90567016002</th>\n",
       "      <th>90229016002</th>\n",
       "      <th>90258016002</th>\n",
       "      <th>90426016002</th>\n",
       "    </tr>\n",
       "  </thead>\n",
       "  <tbody>\n",
       "    <tr>\n",
       "      <th>count</th>\n",
       "      <td>3.278500e+04</td>\n",
       "      <td>3.278500e+04</td>\n",
       "      <td>3.278500e+04</td>\n",
       "      <td>3.278500e+04</td>\n",
       "      <td>3.278500e+04</td>\n",
       "      <td>3.278500e+04</td>\n",
       "      <td>3.278500e+04</td>\n",
       "      <td>3.278500e+04</td>\n",
       "      <td>3.278500e+04</td>\n",
       "      <td>3.278300e+04</td>\n",
       "      <td>...</td>\n",
       "      <td>3.277700e+04</td>\n",
       "      <td>3.277700e+04</td>\n",
       "      <td>3.277700e+04</td>\n",
       "      <td>3.277700e+04</td>\n",
       "      <td>3.277700e+04</td>\n",
       "      <td>3.277700e+04</td>\n",
       "      <td>3.277500e+04</td>\n",
       "      <td>3.277400e+04</td>\n",
       "      <td>3.277400e+04</td>\n",
       "      <td>3.277400e+04</td>\n",
       "    </tr>\n",
       "    <tr>\n",
       "      <th>mean</th>\n",
       "      <td>6.401506e+02</td>\n",
       "      <td>6.157502e+02</td>\n",
       "      <td>5.347229e+02</td>\n",
       "      <td>1.012386e+03</td>\n",
       "      <td>8.994884e+02</td>\n",
       "      <td>6.227506e+02</td>\n",
       "      <td>6.612829e+02</td>\n",
       "      <td>6.636784e+02</td>\n",
       "      <td>8.356816e+02</td>\n",
       "      <td>6.069405e+02</td>\n",
       "      <td>...</td>\n",
       "      <td>5.921066e+02</td>\n",
       "      <td>6.135638e+02</td>\n",
       "      <td>6.412924e+02</td>\n",
       "      <td>6.163609e+02</td>\n",
       "      <td>8.354650e+02</td>\n",
       "      <td>6.363260e+02</td>\n",
       "      <td>6.893310e+02</td>\n",
       "      <td>6.427693e+02</td>\n",
       "      <td>6.450968e+02</td>\n",
       "      <td>8.627683e+02</td>\n",
       "    </tr>\n",
       "    <tr>\n",
       "      <th>std</th>\n",
       "      <td>8.858559e+03</td>\n",
       "      <td>1.216495e+04</td>\n",
       "      <td>7.847256e+03</td>\n",
       "      <td>1.806292e+04</td>\n",
       "      <td>1.675803e+04</td>\n",
       "      <td>9.795379e+03</td>\n",
       "      <td>1.227251e+04</td>\n",
       "      <td>1.156133e+04</td>\n",
       "      <td>2.964668e+04</td>\n",
       "      <td>1.134198e+04</td>\n",
       "      <td>...</td>\n",
       "      <td>1.159675e+04</td>\n",
       "      <td>9.509392e+03</td>\n",
       "      <td>1.067253e+04</td>\n",
       "      <td>9.813310e+03</td>\n",
       "      <td>1.609913e+04</td>\n",
       "      <td>1.003296e+04</td>\n",
       "      <td>1.358491e+04</td>\n",
       "      <td>8.429337e+03</td>\n",
       "      <td>1.230051e+04</td>\n",
       "      <td>2.512421e+04</td>\n",
       "    </tr>\n",
       "    <tr>\n",
       "      <th>min</th>\n",
       "      <td>0.000000e+00</td>\n",
       "      <td>0.000000e+00</td>\n",
       "      <td>0.000000e+00</td>\n",
       "      <td>0.000000e+00</td>\n",
       "      <td>0.000000e+00</td>\n",
       "      <td>0.000000e+00</td>\n",
       "      <td>0.000000e+00</td>\n",
       "      <td>0.000000e+00</td>\n",
       "      <td>0.000000e+00</td>\n",
       "      <td>0.000000e+00</td>\n",
       "      <td>...</td>\n",
       "      <td>0.000000e+00</td>\n",
       "      <td>0.000000e+00</td>\n",
       "      <td>0.000000e+00</td>\n",
       "      <td>0.000000e+00</td>\n",
       "      <td>0.000000e+00</td>\n",
       "      <td>0.000000e+00</td>\n",
       "      <td>0.000000e+00</td>\n",
       "      <td>0.000000e+00</td>\n",
       "      <td>0.000000e+00</td>\n",
       "      <td>0.000000e+00</td>\n",
       "    </tr>\n",
       "    <tr>\n",
       "      <th>25%</th>\n",
       "      <td>0.000000e+00</td>\n",
       "      <td>0.000000e+00</td>\n",
       "      <td>0.000000e+00</td>\n",
       "      <td>0.000000e+00</td>\n",
       "      <td>0.000000e+00</td>\n",
       "      <td>0.000000e+00</td>\n",
       "      <td>0.000000e+00</td>\n",
       "      <td>0.000000e+00</td>\n",
       "      <td>0.000000e+00</td>\n",
       "      <td>0.000000e+00</td>\n",
       "      <td>...</td>\n",
       "      <td>0.000000e+00</td>\n",
       "      <td>0.000000e+00</td>\n",
       "      <td>0.000000e+00</td>\n",
       "      <td>0.000000e+00</td>\n",
       "      <td>0.000000e+00</td>\n",
       "      <td>0.000000e+00</td>\n",
       "      <td>0.000000e+00</td>\n",
       "      <td>0.000000e+00</td>\n",
       "      <td>0.000000e+00</td>\n",
       "      <td>0.000000e+00</td>\n",
       "    </tr>\n",
       "    <tr>\n",
       "      <th>50%</th>\n",
       "      <td>2.000000e+00</td>\n",
       "      <td>2.000000e+00</td>\n",
       "      <td>2.000000e+00</td>\n",
       "      <td>3.000000e+00</td>\n",
       "      <td>3.000000e+00</td>\n",
       "      <td>2.000000e+00</td>\n",
       "      <td>2.000000e+00</td>\n",
       "      <td>2.000000e+00</td>\n",
       "      <td>1.000000e+00</td>\n",
       "      <td>2.000000e+00</td>\n",
       "      <td>...</td>\n",
       "      <td>2.000000e+00</td>\n",
       "      <td>2.000000e+00</td>\n",
       "      <td>2.000000e+00</td>\n",
       "      <td>2.000000e+00</td>\n",
       "      <td>2.860000e+00</td>\n",
       "      <td>2.000000e+00</td>\n",
       "      <td>2.000000e+00</td>\n",
       "      <td>2.000000e+00</td>\n",
       "      <td>2.000000e+00</td>\n",
       "      <td>2.000000e+00</td>\n",
       "    </tr>\n",
       "    <tr>\n",
       "      <th>75%</th>\n",
       "      <td>2.990000e+02</td>\n",
       "      <td>2.610000e+02</td>\n",
       "      <td>2.410000e+02</td>\n",
       "      <td>4.440000e+02</td>\n",
       "      <td>3.880000e+02</td>\n",
       "      <td>2.880000e+02</td>\n",
       "      <td>2.790000e+02</td>\n",
       "      <td>2.920000e+02</td>\n",
       "      <td>1.710000e+02</td>\n",
       "      <td>2.610000e+02</td>\n",
       "      <td>...</td>\n",
       "      <td>2.604500e+02</td>\n",
       "      <td>2.644400e+02</td>\n",
       "      <td>2.680000e+02</td>\n",
       "      <td>2.710000e+02</td>\n",
       "      <td>3.553700e+02</td>\n",
       "      <td>2.830000e+02</td>\n",
       "      <td>2.930000e+02</td>\n",
       "      <td>3.250000e+02</td>\n",
       "      <td>2.783375e+02</td>\n",
       "      <td>2.640000e+02</td>\n",
       "    </tr>\n",
       "    <tr>\n",
       "      <th>max</th>\n",
       "      <td>1.308273e+06</td>\n",
       "      <td>1.859125e+06</td>\n",
       "      <td>1.156647e+06</td>\n",
       "      <td>2.712307e+06</td>\n",
       "      <td>2.558305e+06</td>\n",
       "      <td>1.502794e+06</td>\n",
       "      <td>1.865932e+06</td>\n",
       "      <td>1.759311e+06</td>\n",
       "      <td>4.191986e+06</td>\n",
       "      <td>1.721016e+06</td>\n",
       "      <td>...</td>\n",
       "      <td>1.775778e+06</td>\n",
       "      <td>1.415954e+06</td>\n",
       "      <td>1.618352e+06</td>\n",
       "      <td>1.475056e+06</td>\n",
       "      <td>2.436338e+06</td>\n",
       "      <td>1.517668e+06</td>\n",
       "      <td>2.053059e+06</td>\n",
       "      <td>1.230754e+06</td>\n",
       "      <td>1.904570e+06</td>\n",
       "      <td>3.672977e+06</td>\n",
       "    </tr>\n",
       "  </tbody>\n",
       "</table>\n",
       "<p>8 rows × 52 columns</p>\n",
       "</div>"
      ],
      "text/plain": [
       "        90237016002   90406016002   90292016002   90576016002   90416016002  \\\n",
       "count  3.278500e+04  3.278500e+04  3.278500e+04  3.278500e+04  3.278500e+04   \n",
       "mean   6.401506e+02  6.157502e+02  5.347229e+02  1.012386e+03  8.994884e+02   \n",
       "std    8.858559e+03  1.216495e+04  7.847256e+03  1.806292e+04  1.675803e+04   \n",
       "min    0.000000e+00  0.000000e+00  0.000000e+00  0.000000e+00  0.000000e+00   \n",
       "25%    0.000000e+00  0.000000e+00  0.000000e+00  0.000000e+00  0.000000e+00   \n",
       "50%    2.000000e+00  2.000000e+00  2.000000e+00  3.000000e+00  3.000000e+00   \n",
       "75%    2.990000e+02  2.610000e+02  2.410000e+02  4.440000e+02  3.880000e+02   \n",
       "max    1.308273e+06  1.859125e+06  1.156647e+06  2.712307e+06  2.558305e+06   \n",
       "\n",
       "        90225016002   90254016002   90441016002   90571016002   90444016002  \\\n",
       "count  3.278500e+04  3.278500e+04  3.278500e+04  3.278500e+04  3.278300e+04   \n",
       "mean   6.227506e+02  6.612829e+02  6.636784e+02  8.356816e+02  6.069405e+02   \n",
       "std    9.795379e+03  1.227251e+04  1.156133e+04  2.964668e+04  1.134198e+04   \n",
       "min    0.000000e+00  0.000000e+00  0.000000e+00  0.000000e+00  0.000000e+00   \n",
       "25%    0.000000e+00  0.000000e+00  0.000000e+00  0.000000e+00  0.000000e+00   \n",
       "50%    2.000000e+00  2.000000e+00  2.000000e+00  1.000000e+00  2.000000e+00   \n",
       "75%    2.880000e+02  2.790000e+02  2.920000e+02  1.710000e+02  2.610000e+02   \n",
       "max    1.502794e+06  1.865932e+06  1.759311e+06  4.191986e+06  1.721016e+06   \n",
       "\n",
       "       ...   90267016002   90423016002   90289016002   90421016002  \\\n",
       "count  ...  3.277700e+04  3.277700e+04  3.277700e+04  3.277700e+04   \n",
       "mean   ...  5.921066e+02  6.135638e+02  6.412924e+02  6.163609e+02   \n",
       "std    ...  1.159675e+04  9.509392e+03  1.067253e+04  9.813310e+03   \n",
       "min    ...  0.000000e+00  0.000000e+00  0.000000e+00  0.000000e+00   \n",
       "25%    ...  0.000000e+00  0.000000e+00  0.000000e+00  0.000000e+00   \n",
       "50%    ...  2.000000e+00  2.000000e+00  2.000000e+00  2.000000e+00   \n",
       "75%    ...  2.604500e+02  2.644400e+02  2.680000e+02  2.710000e+02   \n",
       "max    ...  1.775778e+06  1.415954e+06  1.618352e+06  1.475056e+06   \n",
       "\n",
       "        90410016002   90280016002   90567016002   90229016002   90258016002  \\\n",
       "count  3.277700e+04  3.277700e+04  3.277500e+04  3.277400e+04  3.277400e+04   \n",
       "mean   8.354650e+02  6.363260e+02  6.893310e+02  6.427693e+02  6.450968e+02   \n",
       "std    1.609913e+04  1.003296e+04  1.358491e+04  8.429337e+03  1.230051e+04   \n",
       "min    0.000000e+00  0.000000e+00  0.000000e+00  0.000000e+00  0.000000e+00   \n",
       "25%    0.000000e+00  0.000000e+00  0.000000e+00  0.000000e+00  0.000000e+00   \n",
       "50%    2.860000e+00  2.000000e+00  2.000000e+00  2.000000e+00  2.000000e+00   \n",
       "75%    3.553700e+02  2.830000e+02  2.930000e+02  3.250000e+02  2.783375e+02   \n",
       "max    2.436338e+06  1.517668e+06  2.053059e+06  1.230754e+06  1.904570e+06   \n",
       "\n",
       "        90426016002  \n",
       "count  3.277400e+04  \n",
       "mean   8.627683e+02  \n",
       "std    2.512421e+04  \n",
       "min    0.000000e+00  \n",
       "25%    0.000000e+00  \n",
       "50%    2.000000e+00  \n",
       "75%    2.640000e+02  \n",
       "max    3.672977e+06  \n",
       "\n",
       "[8 rows x 52 columns]"
      ]
     },
     "execution_count": 6,
     "metadata": {},
     "output_type": "execute_result"
    }
   ],
   "source": [
    "\n",
    "adrenal.describe()"
   ]
  },
  {
   "cell_type": "code",
   "execution_count": 7,
   "id": "e44cbf48",
   "metadata": {},
   "outputs": [
    {
     "name": "stdout",
     "output_type": "stream",
     "text": [
      "gene_id         0\n",
      "90237016002     0\n",
      "90406016002     0\n",
      "90292016002     0\n",
      "90576016002     0\n",
      "90416016002     0\n",
      "90225016002     0\n",
      "90254016002     0\n",
      "90441016002     0\n",
      "90571016002     0\n",
      "90444016002     2\n",
      "90578016002     0\n",
      "90587016002     1\n",
      "90450016002     2\n",
      "90449016002     2\n",
      "90222016002     2\n",
      "80040886026     2\n",
      "80041996024     2\n",
      "90248016002     2\n",
      "90265016002     2\n",
      "90420016002     2\n",
      "90564016002     2\n",
      "90217016002     3\n",
      "90266016002     3\n",
      "90227016002     3\n",
      "90281016002     3\n",
      "90412016002     3\n",
      "90439016002     3\n",
      "90239016002     3\n",
      "90559016002     3\n",
      "90252016002     3\n",
      "90581016002     4\n",
      "90245016002     4\n",
      "90283016002     4\n",
      "90232016002     4\n",
      "90430016002     4\n",
      "90223016002     5\n",
      "90218016002     6\n",
      "90259016002     6\n",
      "90585016002     7\n",
      "90560016002     7\n",
      "90251016002     8\n",
      "90422016002     8\n",
      "90267016002     8\n",
      "90423016002     8\n",
      "90289016002     8\n",
      "90421016002     8\n",
      "90410016002     8\n",
      "90280016002     8\n",
      "90567016002    10\n",
      "90229016002    11\n",
      "90258016002    11\n",
      "90426016002    11\n",
      "dtype: int64\n"
     ]
    }
   ],
   "source": [
    "# Checking for outliers\n",
    "print(adrenal.isnull().sum())"
   ]
  },
  {
   "cell_type": "markdown",
   "id": "12ad5a85",
   "metadata": {},
   "source": [
    "The data contains some missing numbers, we need to clean all the data: from adrenal - white-adipose"
   ]
  },
  {
   "cell_type": "code",
   "execution_count": 112,
   "id": "a265c535",
   "metadata": {},
   "outputs": [],
   "source": [
    "# Let visualize the data from adrenal\n",
    "import seaborn as sns\n",
    "import matplotlib.pyplot as plt"
   ]
  },
  {
   "cell_type": "code",
   "execution_count": null,
   "id": "4d875f27",
   "metadata": {},
   "outputs": [],
   "source": [
    "# Let us create a pair plot for it\n",
    "sns.pairplot(adrenal, hue=\"gene_id\")\n",
    "plt.show()"
   ]
  },
  {
   "cell_type": "code",
   "execution_count": 8,
   "id": "bb1f252a",
   "metadata": {},
   "outputs": [],
   "source": [
    "# Read all the files\n",
    "blood = dataframes['blood-rna']\n",
    "brown_adipose = dataframes['brown-adipose']\n",
    "colon = dataframes['colon']\n",
    "cortex = dataframes['cortex']\n",
    "endurance_phenotype = dataframes['endurance_phenotype']\n",
    "gastrocnemius = dataframes['gastrocnemius']\n",
    "heart = dataframes['heart']\n",
    "hippocampus = dataframes['hippocampus']\n",
    "hypothalamus = dataframes['hypothalamus']\n",
    "kidney = dataframes['kidney']\n",
    "liver = dataframes['liver']\n",
    "lung = dataframes['lung']\n",
    "ovaries = dataframes['ovaries']\n",
    "smallintestine = dataframes['smallintestine']\n",
    "spleen = dataframes['spleen']\n",
    "testes = dataframes['testes']\n",
    "vastus = dataframes['vastus']\n",
    "vena_cava = dataframes['vena-cava']\n",
    "white_adipose = dataframes['white-adipose']"
   ]
  },
  {
   "cell_type": "code",
   "execution_count": 9,
   "id": "5b03de9f",
   "metadata": {},
   "outputs": [
    {
     "name": "stdout",
     "output_type": "stream",
     "text": [
      "gene_id        0\n",
      "90585013001    0\n",
      "90576013001    0\n",
      "90560013001    0\n",
      "90581013001    0\n",
      "90559013001    0\n",
      "90567013001    0\n",
      "90578013001    0\n",
      "90564013001    0\n",
      "90571013001    0\n",
      "90587013001    0\n",
      "80007000000    0\n",
      "80008000000    0\n",
      "90252013001    0\n",
      "90265013001    0\n",
      "90439013001    0\n",
      "90292013001    0\n",
      "90416013001    0\n",
      "90280013001    0\n",
      "90283013001    0\n",
      "90441013002    0\n",
      "90289013001    0\n",
      "90281013001    0\n",
      "90422013002    0\n",
      "90420013001    0\n",
      "90423013002    0\n",
      "90412013001    0\n",
      "90410013001    0\n",
      "90406013001    1\n",
      "90430013001    0\n",
      "90449013001    0\n",
      "90450013001    0\n",
      "90421013002    0\n",
      "90444013001    0\n",
      "90426013001    0\n",
      "90245013002    0\n",
      "90229013002    0\n",
      "90267013002    0\n",
      "90248013001    0\n",
      "90225013001    0\n",
      "90259013002    0\n",
      "90227013002    0\n",
      "90239013002    0\n",
      "90258013001    0\n",
      "90266013002    0\n",
      "90218013001    0\n",
      "90223013002    0\n",
      "90237013002    1\n",
      "90232013002    1\n",
      "90222013002    1\n",
      "90251013001    1\n",
      "90254013002    1\n",
      "90217013001    1\n",
      "dtype: int64\n",
      "\n",
      " 32873\n"
     ]
    }
   ],
   "source": [
    "# Check for the outliers\n",
    "print(blood.isnull().sum())\n",
    "print(\"\\n\", len(blood)) # This prints the length of the blood sample"
   ]
  },
  {
   "cell_type": "code",
   "execution_count": 10,
   "id": "7c7aa0cd",
   "metadata": {},
   "outputs": [],
   "source": [
    "# df_list = [adrenal, blood, brown_adipose, colon, cortex, endurance_phenotype, gastrocnemius, heart, hippocampus,\n",
    "#          hypothalamus, kidney, liver, lung, ovaries, smallintestine, spleen, testes, vastus, vena_cava, white_adipose]"
   ]
  },
  {
   "cell_type": "markdown",
   "id": "bae6627f",
   "metadata": {},
   "source": [
    "### Cleaning the dataset"
   ]
  },
  {
   "cell_type": "code",
   "execution_count": 26,
   "id": "48b2ee32",
   "metadata": {},
   "outputs": [
    {
     "name": "stdout",
     "output_type": "stream",
     "text": [
      "       90587016002  90450016002  90449016002  90222016002  80040886026  \\\n",
      "0             2.00        10.00         1.00        10.00         1.00   \n",
      "1             0.00         0.00         0.00         1.00         0.00   \n",
      "2            23.00         7.00        10.00        16.00         7.00   \n",
      "3             0.00         0.00         0.00         0.00         0.00   \n",
      "4             2.00         0.00         3.00        13.00         4.00   \n",
      "...            ...          ...          ...          ...          ...   \n",
      "32780         0.00         0.00         0.00         0.00         0.00   \n",
      "32781         0.00         0.00         1.00        47.00         1.00   \n",
      "32782       234.11       295.43       282.96       469.30       297.21   \n",
      "32783         0.00         0.00         2.00         0.00         0.00   \n",
      "32784         0.00         0.00         0.00         8.34         0.00   \n",
      "\n",
      "       80041996024  90248016002  90265016002  90420016002  90564016002  ...  \\\n",
      "0             1.00         1.00         0.00         7.00         8.00  ...   \n",
      "1             1.00         0.00         1.00         0.00         1.00  ...   \n",
      "2             1.00        10.00        40.00         3.00         8.00  ...   \n",
      "3             0.00         0.00         0.00         0.00         0.00  ...   \n",
      "4             0.00         1.00         5.00         3.00         0.00  ...   \n",
      "...            ...          ...          ...          ...          ...  ...   \n",
      "32780         0.00         0.00         0.00         0.00         0.00  ...   \n",
      "32781         0.00         0.00         0.00         0.00         1.00  ...   \n",
      "32782       200.59       213.44       193.42       222.96       299.72  ...   \n",
      "32783         0.00         1.00         0.00         0.00         0.00  ...   \n",
      "32784         0.00         0.00         0.00         0.00         0.00  ...   \n",
      "\n",
      "       90267016002  90423016002  90289016002  90421016002  90410016002  \\\n",
      "0             1.00         2.00         3.00         1.00         4.00   \n",
      "1             0.00         1.00         1.00         0.00         0.00   \n",
      "2            10.00         9.00         6.00         6.00        12.00   \n",
      "3             0.00         0.00         0.00         0.00         0.00   \n",
      "4             1.00         0.00         0.00         1.00         2.00   \n",
      "...            ...          ...          ...          ...          ...   \n",
      "32780         0.00         0.00         0.00         0.00         0.00   \n",
      "32781         0.00         0.00         1.00         0.00         0.00   \n",
      "32782       208.00       194.28       220.85       234.22       298.01   \n",
      "32783         0.00         0.00         0.00         0.00         0.00   \n",
      "32784        13.33         0.00         0.00         0.00         0.00   \n",
      "\n",
      "       90280016002  90567016002  90229016002  90258016002  90426016002  \n",
      "0             2.00         5.00         2.00         1.00         2.00  \n",
      "1             0.00         0.00         0.00         0.00         4.00  \n",
      "2             9.00        10.00        16.00         7.00        15.00  \n",
      "3             0.00         1.00         0.00         0.00         0.00  \n",
      "4             4.00         0.00         0.00         2.00         4.00  \n",
      "...            ...          ...          ...          ...          ...  \n",
      "32780         0.00         0.00         0.00         0.00         0.00  \n",
      "32781         0.00         0.00         0.00         1.00         0.00  \n",
      "32782       305.33       182.77       341.85       232.49       221.64  \n",
      "32783         0.00         0.00         0.00         0.00         0.00  \n",
      "32784         0.00         0.00         0.00         0.00         4.49  \n",
      "\n",
      "[32785 rows x 41 columns]\n"
     ]
    }
   ],
   "source": [
    "# Identify the missing values\n",
    "adrenal_missing = adrenal.columns[adrenal.isnull().any()]\n",
    "adrenal_missing_values = adrenal[adrenal_missing]\n",
    "print(adrenal_missing_values)"
   ]
  },
  {
   "cell_type": "code",
   "execution_count": 41,
   "id": "293c5392",
   "metadata": {},
   "outputs": [
    {
     "name": "stderr",
     "output_type": "stream",
     "text": [
      "C:\\Users\\HP\\AppData\\Local\\Temp\\ipykernel_17292\\2850355203.py:2: FutureWarning: The default value of numeric_only in DataFrame.mean is deprecated. In a future version, it will default to False. In addition, specifying 'numeric_only=None' is deprecated. Select only valid columns or specify the value of numeric_only to silence this warning.\n",
      "  adrenal_missing_filled = adrenal.fillna(adrenal.mean())\n"
     ]
    }
   ],
   "source": [
    "# Fill in the missing numbers in adrenal with the mean value\n",
    "adrenal_missing_filled = adrenal.fillna(adrenal.mean())"
   ]
  },
  {
   "cell_type": "code",
   "execution_count": 39,
   "id": "a045f902",
   "metadata": {},
   "outputs": [
    {
     "data": {
      "text/plain": [
       "gene_id        0\n",
       "90237016002    0\n",
       "90406016002    0\n",
       "90292016002    0\n",
       "90576016002    0\n",
       "90416016002    0\n",
       "90225016002    0\n",
       "90254016002    0\n",
       "90441016002    0\n",
       "90571016002    0\n",
       "90444016002    0\n",
       "90578016002    0\n",
       "90587016002    0\n",
       "90450016002    0\n",
       "90449016002    0\n",
       "90222016002    0\n",
       "80040886026    0\n",
       "80041996024    0\n",
       "90248016002    0\n",
       "90265016002    0\n",
       "90420016002    0\n",
       "90564016002    0\n",
       "90217016002    0\n",
       "90266016002    0\n",
       "90227016002    0\n",
       "90281016002    0\n",
       "90412016002    0\n",
       "90439016002    0\n",
       "90239016002    0\n",
       "90559016002    0\n",
       "90252016002    0\n",
       "90581016002    0\n",
       "90245016002    0\n",
       "90283016002    0\n",
       "90232016002    0\n",
       "90430016002    0\n",
       "90223016002    0\n",
       "90218016002    0\n",
       "90259016002    0\n",
       "90585016002    0\n",
       "90560016002    0\n",
       "90251016002    0\n",
       "90422016002    0\n",
       "90267016002    0\n",
       "90423016002    0\n",
       "90289016002    0\n",
       "90421016002    0\n",
       "90410016002    0\n",
       "90280016002    0\n",
       "90567016002    0\n",
       "90229016002    0\n",
       "90258016002    0\n",
       "90426016002    0\n",
       "dtype: int64"
      ]
     },
     "execution_count": 39,
     "metadata": {},
     "output_type": "execute_result"
    }
   ],
   "source": [
    "# Check whether there are outliers\n",
    "print(adrenal_missing_filled.isnull().sum())\n",
    "# if all zeros, the data is now cleaned"
   ]
  },
  {
   "cell_type": "code",
   "execution_count": 42,
   "id": "4db7932e",
   "metadata": {},
   "outputs": [
    {
     "data": {
      "text/html": [
       "<div>\n",
       "<style scoped>\n",
       "    .dataframe tbody tr th:only-of-type {\n",
       "        vertical-align: middle;\n",
       "    }\n",
       "\n",
       "    .dataframe tbody tr th {\n",
       "        vertical-align: top;\n",
       "    }\n",
       "\n",
       "    .dataframe thead th {\n",
       "        text-align: right;\n",
       "    }\n",
       "</style>\n",
       "<table border=\"1\" class=\"dataframe\">\n",
       "  <thead>\n",
       "    <tr style=\"text-align: right;\">\n",
       "      <th></th>\n",
       "      <th>gene_id</th>\n",
       "      <th>90237016002</th>\n",
       "      <th>90406016002</th>\n",
       "      <th>90292016002</th>\n",
       "      <th>90576016002</th>\n",
       "      <th>90416016002</th>\n",
       "      <th>90225016002</th>\n",
       "      <th>90254016002</th>\n",
       "      <th>90441016002</th>\n",
       "      <th>90571016002</th>\n",
       "      <th>...</th>\n",
       "      <th>90267016002</th>\n",
       "      <th>90423016002</th>\n",
       "      <th>90289016002</th>\n",
       "      <th>90421016002</th>\n",
       "      <th>90410016002</th>\n",
       "      <th>90280016002</th>\n",
       "      <th>90567016002</th>\n",
       "      <th>90229016002</th>\n",
       "      <th>90258016002</th>\n",
       "      <th>90426016002</th>\n",
       "    </tr>\n",
       "  </thead>\n",
       "  <tbody>\n",
       "    <tr>\n",
       "      <th>0</th>\n",
       "      <td>ENSRNOG00000000001</td>\n",
       "      <td>0.0</td>\n",
       "      <td>4.0</td>\n",
       "      <td>3.0</td>\n",
       "      <td>5.0</td>\n",
       "      <td>5.0</td>\n",
       "      <td>1.0</td>\n",
       "      <td>2.0</td>\n",
       "      <td>4.0</td>\n",
       "      <td>3.0</td>\n",
       "      <td>...</td>\n",
       "      <td>1.0</td>\n",
       "      <td>2.0</td>\n",
       "      <td>3.0</td>\n",
       "      <td>1.0</td>\n",
       "      <td>4.0</td>\n",
       "      <td>2.0</td>\n",
       "      <td>5.0</td>\n",
       "      <td>2.0</td>\n",
       "      <td>1.0</td>\n",
       "      <td>2.0</td>\n",
       "    </tr>\n",
       "    <tr>\n",
       "      <th>1</th>\n",
       "      <td>ENSRNOG00000000007</td>\n",
       "      <td>0.0</td>\n",
       "      <td>1.0</td>\n",
       "      <td>0.0</td>\n",
       "      <td>1.0</td>\n",
       "      <td>0.0</td>\n",
       "      <td>0.0</td>\n",
       "      <td>2.0</td>\n",
       "      <td>0.0</td>\n",
       "      <td>6.0</td>\n",
       "      <td>...</td>\n",
       "      <td>0.0</td>\n",
       "      <td>1.0</td>\n",
       "      <td>1.0</td>\n",
       "      <td>0.0</td>\n",
       "      <td>0.0</td>\n",
       "      <td>0.0</td>\n",
       "      <td>0.0</td>\n",
       "      <td>0.0</td>\n",
       "      <td>0.0</td>\n",
       "      <td>4.0</td>\n",
       "    </tr>\n",
       "    <tr>\n",
       "      <th>2</th>\n",
       "      <td>ENSRNOG00000000008</td>\n",
       "      <td>12.0</td>\n",
       "      <td>7.0</td>\n",
       "      <td>0.0</td>\n",
       "      <td>8.0</td>\n",
       "      <td>8.0</td>\n",
       "      <td>11.0</td>\n",
       "      <td>11.0</td>\n",
       "      <td>13.0</td>\n",
       "      <td>88.0</td>\n",
       "      <td>...</td>\n",
       "      <td>10.0</td>\n",
       "      <td>9.0</td>\n",
       "      <td>6.0</td>\n",
       "      <td>6.0</td>\n",
       "      <td>12.0</td>\n",
       "      <td>9.0</td>\n",
       "      <td>10.0</td>\n",
       "      <td>16.0</td>\n",
       "      <td>7.0</td>\n",
       "      <td>15.0</td>\n",
       "    </tr>\n",
       "    <tr>\n",
       "      <th>3</th>\n",
       "      <td>ENSRNOG00000000009</td>\n",
       "      <td>0.0</td>\n",
       "      <td>0.0</td>\n",
       "      <td>0.0</td>\n",
       "      <td>0.0</td>\n",
       "      <td>0.0</td>\n",
       "      <td>0.0</td>\n",
       "      <td>0.0</td>\n",
       "      <td>0.0</td>\n",
       "      <td>0.0</td>\n",
       "      <td>...</td>\n",
       "      <td>0.0</td>\n",
       "      <td>0.0</td>\n",
       "      <td>0.0</td>\n",
       "      <td>0.0</td>\n",
       "      <td>0.0</td>\n",
       "      <td>0.0</td>\n",
       "      <td>1.0</td>\n",
       "      <td>0.0</td>\n",
       "      <td>0.0</td>\n",
       "      <td>0.0</td>\n",
       "    </tr>\n",
       "    <tr>\n",
       "      <th>4</th>\n",
       "      <td>ENSRNOG00000000010</td>\n",
       "      <td>0.0</td>\n",
       "      <td>0.0</td>\n",
       "      <td>1.0</td>\n",
       "      <td>0.0</td>\n",
       "      <td>0.0</td>\n",
       "      <td>1.0</td>\n",
       "      <td>1.0</td>\n",
       "      <td>2.0</td>\n",
       "      <td>2.0</td>\n",
       "      <td>...</td>\n",
       "      <td>1.0</td>\n",
       "      <td>0.0</td>\n",
       "      <td>0.0</td>\n",
       "      <td>1.0</td>\n",
       "      <td>2.0</td>\n",
       "      <td>4.0</td>\n",
       "      <td>0.0</td>\n",
       "      <td>0.0</td>\n",
       "      <td>2.0</td>\n",
       "      <td>4.0</td>\n",
       "    </tr>\n",
       "  </tbody>\n",
       "</table>\n",
       "<p>5 rows × 53 columns</p>\n",
       "</div>"
      ],
      "text/plain": [
       "              gene_id  90237016002  90406016002  90292016002  90576016002  \\\n",
       "0  ENSRNOG00000000001          0.0          4.0          3.0          5.0   \n",
       "1  ENSRNOG00000000007          0.0          1.0          0.0          1.0   \n",
       "2  ENSRNOG00000000008         12.0          7.0          0.0          8.0   \n",
       "3  ENSRNOG00000000009          0.0          0.0          0.0          0.0   \n",
       "4  ENSRNOG00000000010          0.0          0.0          1.0          0.0   \n",
       "\n",
       "   90416016002  90225016002  90254016002  90441016002  90571016002  ...  \\\n",
       "0          5.0          1.0          2.0          4.0          3.0  ...   \n",
       "1          0.0          0.0          2.0          0.0          6.0  ...   \n",
       "2          8.0         11.0         11.0         13.0         88.0  ...   \n",
       "3          0.0          0.0          0.0          0.0          0.0  ...   \n",
       "4          0.0          1.0          1.0          2.0          2.0  ...   \n",
       "\n",
       "   90267016002  90423016002  90289016002  90421016002  90410016002  \\\n",
       "0          1.0          2.0          3.0          1.0          4.0   \n",
       "1          0.0          1.0          1.0          0.0          0.0   \n",
       "2         10.0          9.0          6.0          6.0         12.0   \n",
       "3          0.0          0.0          0.0          0.0          0.0   \n",
       "4          1.0          0.0          0.0          1.0          2.0   \n",
       "\n",
       "   90280016002  90567016002  90229016002  90258016002  90426016002  \n",
       "0          2.0          5.0          2.0          1.0          2.0  \n",
       "1          0.0          0.0          0.0          0.0          4.0  \n",
       "2          9.0         10.0         16.0          7.0         15.0  \n",
       "3          0.0          1.0          0.0          0.0          0.0  \n",
       "4          4.0          0.0          0.0          2.0          4.0  \n",
       "\n",
       "[5 rows x 53 columns]"
      ]
     },
     "execution_count": 42,
     "metadata": {},
     "output_type": "execute_result"
    }
   ],
   "source": [
    "adrenal_missing_filled.head()"
   ]
  },
  {
   "cell_type": "code",
   "execution_count": null,
   "id": "a9ff2346",
   "metadata": {},
   "outputs": [],
   "source": [
    "# Get information about the dataset\n",
    "adrenal_missing_filled.describe()"
   ]
  },
  {
   "cell_type": "markdown",
   "id": "b9265f36",
   "metadata": {},
   "source": [
    "Adrenal database has been cleaned, let's repeat the same step for the other data set.\n",
    "The list of the database is \n",
    "df_list = [adrenal, blood, brown_adipose, colon, cortex, endurance_phenotype, gastrocnemius, heart, hippocampus,\n",
    "        hypothalamus, kidney, liver, lung, ovaries, smallintestine, spleen, testes, vastus, vena_cava, white_adipose]"
   ]
  },
  {
   "cell_type": "code",
   "execution_count": 44,
   "id": "affebd9a",
   "metadata": {},
   "outputs": [
    {
     "name": "stderr",
     "output_type": "stream",
     "text": [
      "C:\\Users\\HP\\AppData\\Local\\Temp\\ipykernel_17292\\3309309818.py:2: FutureWarning: The default value of numeric_only in DataFrame.mean is deprecated. In a future version, it will default to False. In addition, specifying 'numeric_only=None' is deprecated. Select only valid columns or specify the value of numeric_only to silence this warning.\n",
      "  blood_missing_filled = blood.fillna(blood.mean())\n"
     ]
    }
   ],
   "source": [
    "# Fill blood missing values with the mean() as well\n",
    "blood_missing_filled = blood.fillna(blood.mean())"
   ]
  },
  {
   "cell_type": "code",
   "execution_count": 45,
   "id": "cf729177",
   "metadata": {},
   "outputs": [
    {
     "name": "stdout",
     "output_type": "stream",
     "text": [
      "gene_id        0\n",
      "90585013001    0\n",
      "90576013001    0\n",
      "90560013001    0\n",
      "90581013001    0\n",
      "90559013001    0\n",
      "90567013001    0\n",
      "90578013001    0\n",
      "90564013001    0\n",
      "90571013001    0\n",
      "90587013001    0\n",
      "80007000000    0\n",
      "80008000000    0\n",
      "90252013001    0\n",
      "90265013001    0\n",
      "90439013001    0\n",
      "90292013001    0\n",
      "90416013001    0\n",
      "90280013001    0\n",
      "90283013001    0\n",
      "90441013002    0\n",
      "90289013001    0\n",
      "90281013001    0\n",
      "90422013002    0\n",
      "90420013001    0\n",
      "90423013002    0\n",
      "90412013001    0\n",
      "90410013001    0\n",
      "90406013001    0\n",
      "90430013001    0\n",
      "90449013001    0\n",
      "90450013001    0\n",
      "90421013002    0\n",
      "90444013001    0\n",
      "90426013001    0\n",
      "90245013002    0\n",
      "90229013002    0\n",
      "90267013002    0\n",
      "90248013001    0\n",
      "90225013001    0\n",
      "90259013002    0\n",
      "90227013002    0\n",
      "90239013002    0\n",
      "90258013001    0\n",
      "90266013002    0\n",
      "90218013001    0\n",
      "90223013002    0\n",
      "90237013002    0\n",
      "90232013002    0\n",
      "90222013002    0\n",
      "90251013001    0\n",
      "90254013002    0\n",
      "90217013001    0\n",
      "dtype: int64\n"
     ]
    }
   ],
   "source": [
    "print(blood_missing_filled.isnull().sum()) # blood database is cleaned"
   ]
  },
  {
   "cell_type": "code",
   "execution_count": 46,
   "id": "d640ba40",
   "metadata": {},
   "outputs": [
    {
     "name": "stderr",
     "output_type": "stream",
     "text": [
      "C:\\Users\\HP\\AppData\\Local\\Temp\\ipykernel_17292\\1717621335.py:2: FutureWarning: The default value of numeric_only in DataFrame.mean is deprecated. In a future version, it will default to False. In addition, specifying 'numeric_only=None' is deprecated. Select only valid columns or specify the value of numeric_only to silence this warning.\n",
      "  brown_adipose_filled = brown_adipose.fillna(brown_adipose.mean())\n"
     ]
    }
   ],
   "source": [
    "# fill in brown_adipose\n",
    "brown_adipose_filled = brown_adipose.fillna(brown_adipose.mean()) "
   ]
  },
  {
   "cell_type": "code",
   "execution_count": 47,
   "id": "d37358e7",
   "metadata": {},
   "outputs": [
    {
     "name": "stderr",
     "output_type": "stream",
     "text": [
      "C:\\Users\\HP\\AppData\\Local\\Temp\\ipykernel_17292\\3062436408.py:1: FutureWarning: The default value of numeric_only in DataFrame.mean is deprecated. In a future version, it will default to False. In addition, specifying 'numeric_only=None' is deprecated. Select only valid columns or specify the value of numeric_only to silence this warning.\n",
      "  colon_filled = colon.fillna(colon.mean())\n"
     ]
    }
   ],
   "source": [
    "# fill in colon\n",
    "colon_filled = colon.fillna(colon.mean())"
   ]
  },
  {
   "cell_type": "code",
   "execution_count": 48,
   "id": "b772517b",
   "metadata": {},
   "outputs": [
    {
     "name": "stderr",
     "output_type": "stream",
     "text": [
      "C:\\Users\\HP\\AppData\\Local\\Temp\\ipykernel_17292\\1862054122.py:2: FutureWarning: The default value of numeric_only in DataFrame.mean is deprecated. In a future version, it will default to False. In addition, specifying 'numeric_only=None' is deprecated. Select only valid columns or specify the value of numeric_only to silence this warning.\n",
      "  cortex_filled = cortex.fillna(cortex.mean())\n"
     ]
    }
   ],
   "source": [
    "# fill in cortex\n",
    "cortex_filled = cortex.fillna(cortex.mean())"
   ]
  },
  {
   "cell_type": "code",
   "execution_count": 50,
   "id": "3e0533f5",
   "metadata": {},
   "outputs": [
    {
     "name": "stderr",
     "output_type": "stream",
     "text": [
      "C:\\Users\\HP\\AppData\\Local\\Temp\\ipykernel_17292\\2780393775.py:2: FutureWarning: The default value of numeric_only in DataFrame.mean is deprecated. In a future version, it will default to False. In addition, specifying 'numeric_only=None' is deprecated. Select only valid columns or specify the value of numeric_only to silence this warning.\n",
      "  endurance_phenotype_filled = endurance_phenotype.fillna(endurance_phenotype.mean())\n"
     ]
    }
   ],
   "source": [
    "# fill in endurance_phenotype\n",
    "endurance_phenotype_filled = endurance_phenotype.fillna(endurance_phenotype.mean())"
   ]
  },
  {
   "cell_type": "code",
   "execution_count": 51,
   "id": "4c47bbb2",
   "metadata": {},
   "outputs": [
    {
     "name": "stderr",
     "output_type": "stream",
     "text": [
      "C:\\Users\\HP\\AppData\\Local\\Temp\\ipykernel_17292\\753894118.py:2: FutureWarning: The default value of numeric_only in DataFrame.mean is deprecated. In a future version, it will default to False. In addition, specifying 'numeric_only=None' is deprecated. Select only valid columns or specify the value of numeric_only to silence this warning.\n",
      "  gastrocnemius_filled = gastrocnemius.fillna(gastrocnemius.mean())\n"
     ]
    }
   ],
   "source": [
    "# fill in gastrocnemius\n",
    "gastrocnemius_filled = gastrocnemius.fillna(gastrocnemius.mean())"
   ]
  },
  {
   "cell_type": "code",
   "execution_count": 52,
   "id": "8284d382",
   "metadata": {},
   "outputs": [
    {
     "name": "stderr",
     "output_type": "stream",
     "text": [
      "C:\\Users\\HP\\AppData\\Local\\Temp\\ipykernel_17292\\3016844733.py:2: FutureWarning: The default value of numeric_only in DataFrame.mean is deprecated. In a future version, it will default to False. In addition, specifying 'numeric_only=None' is deprecated. Select only valid columns or specify the value of numeric_only to silence this warning.\n",
      "  heart_filled = heart.fillna(heart.mean())\n"
     ]
    }
   ],
   "source": [
    "# fill in heart\n",
    "heart_filled = heart.fillna(heart.mean())"
   ]
  },
  {
   "cell_type": "code",
   "execution_count": 53,
   "id": "af497a7b",
   "metadata": {},
   "outputs": [
    {
     "name": "stderr",
     "output_type": "stream",
     "text": [
      "C:\\Users\\HP\\AppData\\Local\\Temp\\ipykernel_17292\\984533791.py:2: FutureWarning: The default value of numeric_only in DataFrame.mean is deprecated. In a future version, it will default to False. In addition, specifying 'numeric_only=None' is deprecated. Select only valid columns or specify the value of numeric_only to silence this warning.\n",
      "  hippocampus_filled = hippocampus.fillna(hippocampus.mean())\n"
     ]
    }
   ],
   "source": [
    "# fill in hippocampus\n",
    "hippocampus_filled = hippocampus.fillna(hippocampus.mean())"
   ]
  },
  {
   "cell_type": "code",
   "execution_count": 54,
   "id": "f0e8a276",
   "metadata": {},
   "outputs": [
    {
     "name": "stderr",
     "output_type": "stream",
     "text": [
      "C:\\Users\\HP\\AppData\\Local\\Temp\\ipykernel_17292\\3311312500.py:2: FutureWarning: The default value of numeric_only in DataFrame.mean is deprecated. In a future version, it will default to False. In addition, specifying 'numeric_only=None' is deprecated. Select only valid columns or specify the value of numeric_only to silence this warning.\n",
      "  hypothalamus_filled = hypothalamus.fillna(hypothalamus.mean())\n"
     ]
    }
   ],
   "source": [
    "# fill in hypothalamus\n",
    "hypothalamus_filled = hypothalamus.fillna(hypothalamus.mean())"
   ]
  },
  {
   "cell_type": "code",
   "execution_count": 55,
   "id": "4d4d9b47",
   "metadata": {},
   "outputs": [
    {
     "name": "stderr",
     "output_type": "stream",
     "text": [
      "C:\\Users\\HP\\AppData\\Local\\Temp\\ipykernel_17292\\3287820597.py:2: FutureWarning: The default value of numeric_only in DataFrame.mean is deprecated. In a future version, it will default to False. In addition, specifying 'numeric_only=None' is deprecated. Select only valid columns or specify the value of numeric_only to silence this warning.\n",
      "  kidney_filled = kidney.fillna(kidney.mean())\n"
     ]
    }
   ],
   "source": [
    "# fill in kidney\n",
    "kidney_filled = kidney.fillna(kidney.mean())"
   ]
  },
  {
   "cell_type": "code",
   "execution_count": 56,
   "id": "cce4ba1d",
   "metadata": {},
   "outputs": [
    {
     "name": "stderr",
     "output_type": "stream",
     "text": [
      "C:\\Users\\HP\\AppData\\Local\\Temp\\ipykernel_17292\\2396223037.py:2: FutureWarning: The default value of numeric_only in DataFrame.mean is deprecated. In a future version, it will default to False. In addition, specifying 'numeric_only=None' is deprecated. Select only valid columns or specify the value of numeric_only to silence this warning.\n",
      "  liver_filled = liver.fillna(liver.mean())\n"
     ]
    }
   ],
   "source": [
    "# fill in liver\n",
    "liver_filled = liver.fillna(liver.mean())\n"
   ]
  },
  {
   "cell_type": "code",
   "execution_count": 57,
   "id": "9ad77b3c",
   "metadata": {},
   "outputs": [
    {
     "name": "stderr",
     "output_type": "stream",
     "text": [
      "C:\\Users\\HP\\AppData\\Local\\Temp\\ipykernel_17292\\3907053300.py:2: FutureWarning: The default value of numeric_only in DataFrame.mean is deprecated. In a future version, it will default to False. In addition, specifying 'numeric_only=None' is deprecated. Select only valid columns or specify the value of numeric_only to silence this warning.\n",
      "  lung_filled = lung.fillna(lung.mean())\n"
     ]
    }
   ],
   "source": [
    "# fill in lung\n",
    "lung_filled = lung.fillna(lung.mean())"
   ]
  },
  {
   "cell_type": "code",
   "execution_count": 58,
   "id": "d2d394f2",
   "metadata": {},
   "outputs": [
    {
     "name": "stderr",
     "output_type": "stream",
     "text": [
      "C:\\Users\\HP\\AppData\\Local\\Temp\\ipykernel_17292\\792110373.py:2: FutureWarning: The default value of numeric_only in DataFrame.mean is deprecated. In a future version, it will default to False. In addition, specifying 'numeric_only=None' is deprecated. Select only valid columns or specify the value of numeric_only to silence this warning.\n",
      "  ovaries_filled = ovaries.fillna(ovaries.mean())\n"
     ]
    }
   ],
   "source": [
    "# fill in ovaries\n",
    "ovaries_filled = ovaries.fillna(ovaries.mean())"
   ]
  },
  {
   "cell_type": "code",
   "execution_count": 59,
   "id": "b87cbfcc",
   "metadata": {},
   "outputs": [
    {
     "name": "stderr",
     "output_type": "stream",
     "text": [
      "C:\\Users\\HP\\AppData\\Local\\Temp\\ipykernel_17292\\3032959887.py:3: FutureWarning: The default value of numeric_only in DataFrame.mean is deprecated. In a future version, it will default to False. In addition, specifying 'numeric_only=None' is deprecated. Select only valid columns or specify the value of numeric_only to silence this warning.\n",
      "  smallintestine_filled = smallintestine.fillna(smallintestine.mean())\n"
     ]
    }
   ],
   "source": [
    "# fill in smallintestine\n",
    "smallintestine_filled = smallintestine.fillna(smallintestine.mean())"
   ]
  },
  {
   "cell_type": "code",
   "execution_count": 61,
   "id": "f908dab2",
   "metadata": {},
   "outputs": [
    {
     "name": "stderr",
     "output_type": "stream",
     "text": [
      "C:\\Users\\HP\\AppData\\Local\\Temp\\ipykernel_17292\\505519930.py:2: FutureWarning: The default value of numeric_only in DataFrame.mean is deprecated. In a future version, it will default to False. In addition, specifying 'numeric_only=None' is deprecated. Select only valid columns or specify the value of numeric_only to silence this warning.\n",
      "  spleen_filled = spleen.fillna(spleen.mean())\n"
     ]
    }
   ],
   "source": [
    "# fill in spleen\n",
    "spleen_filled = spleen.fillna(spleen.mean())"
   ]
  },
  {
   "cell_type": "code",
   "execution_count": 62,
   "id": "f834ec26",
   "metadata": {},
   "outputs": [
    {
     "name": "stderr",
     "output_type": "stream",
     "text": [
      "C:\\Users\\HP\\AppData\\Local\\Temp\\ipykernel_17292\\1891168354.py:2: FutureWarning: The default value of numeric_only in DataFrame.mean is deprecated. In a future version, it will default to False. In addition, specifying 'numeric_only=None' is deprecated. Select only valid columns or specify the value of numeric_only to silence this warning.\n",
      "  testes_filled = testes.fillna(testes.mean())\n"
     ]
    }
   ],
   "source": [
    "# fill in testes\n",
    "testes_filled = testes.fillna(testes.mean())"
   ]
  },
  {
   "cell_type": "code",
   "execution_count": 63,
   "id": "fe2cabf3",
   "metadata": {},
   "outputs": [
    {
     "name": "stderr",
     "output_type": "stream",
     "text": [
      "C:\\Users\\HP\\AppData\\Local\\Temp\\ipykernel_17292\\1900245895.py:2: FutureWarning: The default value of numeric_only in DataFrame.mean is deprecated. In a future version, it will default to False. In addition, specifying 'numeric_only=None' is deprecated. Select only valid columns or specify the value of numeric_only to silence this warning.\n",
      "  vastus_filled = vastus.fillna(vastus.mean())\n"
     ]
    }
   ],
   "source": [
    "# fill in vastus\n",
    "vastus_filled = vastus.fillna(vastus.mean())"
   ]
  },
  {
   "cell_type": "code",
   "execution_count": 64,
   "id": "bd242319",
   "metadata": {},
   "outputs": [
    {
     "name": "stderr",
     "output_type": "stream",
     "text": [
      "C:\\Users\\HP\\AppData\\Local\\Temp\\ipykernel_17292\\2216156642.py:2: FutureWarning: The default value of numeric_only in DataFrame.mean is deprecated. In a future version, it will default to False. In addition, specifying 'numeric_only=None' is deprecated. Select only valid columns or specify the value of numeric_only to silence this warning.\n",
      "  vena_cava_filled = vena_cava.fillna(vena_cava.mean())\n",
      "C:\\Users\\HP\\AppData\\Local\\Temp\\ipykernel_17292\\2216156642.py:3: FutureWarning: The default value of numeric_only in DataFrame.mean is deprecated. In a future version, it will default to False. In addition, specifying 'numeric_only=None' is deprecated. Select only valid columns or specify the value of numeric_only to silence this warning.\n",
      "  white_adipose_filled = white_adipose.fillna(white_adipose.mean())\n"
     ]
    }
   ],
   "source": [
    "# fill in vena_cava & white_adipose\n",
    "vena_cava_filled = vena_cava.fillna(vena_cava.mean())\n",
    "white_adipose_filled = white_adipose.fillna(white_adipose.mean())"
   ]
  },
  {
   "cell_type": "code",
   "execution_count": 67,
   "id": "fe36709a",
   "metadata": {},
   "outputs": [
    {
     "name": "stdout",
     "output_type": "stream",
     "text": [
      "       gene_id  90280016502  90227016502  90239016502  90254016502  \\\n",
      "0        False        False        False        False        False   \n",
      "1        False        False        False        False        False   \n",
      "2        False        False        False        False        False   \n",
      "3        False        False        False        False        False   \n",
      "4        False        False        False        False        False   \n",
      "...        ...          ...          ...          ...          ...   \n",
      "32878    False        False        False        False        False   \n",
      "32879    False        False        False        False        False   \n",
      "32880    False        False        False        False        False   \n",
      "32881    False        False        False        False        False   \n",
      "32882    False        False        False        False        False   \n",
      "\n",
      "       90281016502  90265016502  90251016502  90252016502  90225016502  ...  \\\n",
      "0            False        False        False        False        False  ...   \n",
      "1            False        False        False        False        False  ...   \n",
      "2            False        False        False        False        False  ...   \n",
      "3            False        False        False        False        False  ...   \n",
      "4            False        False        False        False        False  ...   \n",
      "...            ...          ...          ...          ...          ...  ...   \n",
      "32878        False        False        False        False        False  ...   \n",
      "32879        False        False        False        False        False  ...   \n",
      "32880        False        False        False        False        False  ...   \n",
      "32881        False        False        False        False        False  ...   \n",
      "32882        False        False        False        False        False  ...   \n",
      "\n",
      "       90223016502  90416016502  90248016502  90259016502  90412016502  \\\n",
      "0            False        False        False        False        False   \n",
      "1            False        False        False        False        False   \n",
      "2            False        False        False        False        False   \n",
      "3            False        False        False        False        False   \n",
      "4            False        False        False        False        False   \n",
      "...            ...          ...          ...          ...          ...   \n",
      "32878        False        False        False        False        False   \n",
      "32879        False        False        False        False        False   \n",
      "32880        False        False        False        False        False   \n",
      "32881        False        False        False        False        False   \n",
      "32882        False        False        False        False        False   \n",
      "\n",
      "       90406016502  90410016502  90245016502  90292016502  90266016502  \n",
      "0            False        False        False        False        False  \n",
      "1            False        False        False        False        False  \n",
      "2            False        False        False        False        False  \n",
      "3            False        False        False        False        False  \n",
      "4            False        False        False        False        False  \n",
      "...            ...          ...          ...          ...          ...  \n",
      "32878        False        False        False        False        False  \n",
      "32879        False        False        False        False        False  \n",
      "32880        False        False        False        False        False  \n",
      "32881        False        False        False        False        False  \n",
      "32882        False        False        False        False        False  \n",
      "\n",
      "[32883 rows x 31 columns]\n"
     ]
    }
   ],
   "source": [
    "# Let's randomly check the dataset\n",
    "vena_cava_filled.head()\n",
    "print(vena_cava_filled.isna()) # prints (False), showing there are no outliers and data is cleaned"
   ]
  },
  {
   "cell_type": "markdown",
   "id": "fb8702ba",
   "metadata": {},
   "source": [
    "### Store the files to a directory"
   ]
  },
  {
   "cell_type": "code",
   "execution_count": 103,
   "id": "7906dbab",
   "metadata": {},
   "outputs": [],
   "source": [
    "# Create a list for the filled data set\n",
    "df_filled = [adrenal_missing_filled, blood_missing_filled,\n",
    "            brown_adipose_filled, colon_filled, cortex_filled,\n",
    "             endurance_phenotype_filled, gastrocnemius_filled,\n",
    "             heart_filled, hippocampus_filled, hypothalamus_filled,\n",
    "             kidney_filled, liver_filled, lung_filled, ovaries_filled,\n",
    "             smallintestine_filled, spleen_filled, testes_filled,\n",
    "             vastus_filled, vena_cava_filled, white_adipose_filled  \n",
    "            ]"
   ]
  },
  {
   "cell_type": "code",
   "execution_count": 111,
   "id": "2d6ef930",
   "metadata": {},
   "outputs": [
    {
     "name": "stdout",
     "output_type": "stream",
     "text": [
      "file initiated\n",
      "What should be the name? adrenal_rna.csv\n",
      "File saved to the Local Disk...\n",
      "file initiated\n",
      "What should be the name? blood_rna.csv\n",
      "File saved to the Local Disk...\n",
      "file initiated\n",
      "What should be the name? brown-adipose_rna.csv\n",
      "File saved to the Local Disk...\n",
      "file initiated\n",
      "What should be the name? colon_rna.csv\n",
      "File saved to the Local Disk...\n",
      "file initiated\n",
      "What should be the name? cortex_rna.csv\n",
      "File saved to the Local Disk...\n",
      "file initiated\n",
      "What should be the name? endurance-phenotype_rna.csv\n",
      "File saved to the Local Disk...\n",
      "file initiated\n",
      "What should be the name? gastrocnemius_rna.csv\n",
      "File saved to the Local Disk...\n",
      "file initiated\n",
      "What should be the name? heart_rna.csv\n",
      "File saved to the Local Disk...\n",
      "file initiated\n",
      "What should be the name? hippocampus_rna.csv\n",
      "File saved to the Local Disk...\n",
      "file initiated\n",
      "What should be the name? hypothalamus_rna.csv\n",
      "File saved to the Local Disk...\n",
      "file initiated\n",
      "What should be the name? kidney_rna.csv\n",
      "File saved to the Local Disk...\n",
      "file initiated\n",
      "What should be the name? liver_rna.csv\n",
      "File saved to the Local Disk...\n",
      "file initiated\n",
      "What should be the name? lung_rna.csv\n",
      "File saved to the Local Disk...\n",
      "file initiated\n",
      "What should be the name? ovaries_rna.csv\n",
      "File saved to the Local Disk...\n",
      "file initiated\n",
      "What should be the name? smallintestine_rna.csv\n",
      "File saved to the Local Disk...\n",
      "file initiated\n",
      "What should be the name? spleen_rna.csv\n",
      "File saved to the Local Disk...\n",
      "file initiated\n",
      "What should be the name? testes_rna.csv\n",
      "File saved to the Local Disk...\n",
      "file initiated\n",
      "What should be the name? vastus_rna.csv\n",
      "File saved to the Local Disk...\n",
      "file initiated\n",
      "What should be the name? vena-cava_rna.csv\n",
      "File saved to the Local Disk...\n",
      "file initiated\n",
      "What should be the name? white-adipose_rna.csv\n",
      "File saved to the Local Disk...\n"
     ]
    }
   ],
   "source": [
    "for excel in df_filled:\n",
    "    print(\"file initiated\")\n",
    "    excel.to_csv(input(\"What should be the name? \"), index=False)\n",
    "    print(\"File saved to the Local Disk...\")"
   ]
  },
  {
   "cell_type": "markdown",
   "id": "34bec6cf",
   "metadata": {},
   "source": [
    "### Merging the data"
   ]
  },
  {
   "cell_type": "code",
   "execution_count": 84,
   "id": "4fb355a4",
   "metadata": {},
   "outputs": [],
   "source": [
    "merged_data = pd.concat(df_filled)"
   ]
  },
  {
   "cell_type": "code",
   "execution_count": 88,
   "id": "9e50a9e4",
   "metadata": {},
   "outputs": [
    {
     "name": "stdout",
     "output_type": "stream",
     "text": [
      "                  gene_id  90237016002  90406016002  90292016002  90576016002  \\\n",
      "0      ENSRNOG00000000001          0.0          4.0          3.0          5.0   \n",
      "1      ENSRNOG00000000007          0.0          1.0          0.0          1.0   \n",
      "2      ENSRNOG00000000008         12.0          7.0          0.0          8.0   \n",
      "3      ENSRNOG00000000009          0.0          0.0          0.0          0.0   \n",
      "4      ENSRNOG00000000010          0.0          0.0          1.0          0.0   \n",
      "...                   ...          ...          ...          ...          ...   \n",
      "32857  ENSRNOG00000062304          NaN          NaN          NaN          NaN   \n",
      "32858  ENSRNOG00000062305          NaN          NaN          NaN          NaN   \n",
      "32859  ENSRNOG00000062306          NaN          NaN          NaN          NaN   \n",
      "32860  ENSRNOG00000062307          NaN          NaN          NaN          NaN   \n",
      "32861  ENSRNOG00000062308          NaN          NaN          NaN          NaN   \n",
      "\n",
      "       90416016002  90225016002  90254016002  90441016002  90571016002  ...  \\\n",
      "0              5.0          1.0          2.0          4.0          3.0  ...   \n",
      "1              0.0          0.0          2.0          0.0          6.0  ...   \n",
      "2              8.0         11.0         11.0         13.0         88.0  ...   \n",
      "3              0.0          0.0          0.0          0.0          0.0  ...   \n",
      "4              0.0          1.0          1.0          2.0          2.0  ...   \n",
      "...            ...          ...          ...          ...          ...  ...   \n",
      "32857          NaN          NaN          NaN          NaN          NaN  ...   \n",
      "32858          NaN          NaN          NaN          NaN          NaN  ...   \n",
      "32859          NaN          NaN          NaN          NaN          NaN  ...   \n",
      "32860          NaN          NaN          NaN          NaN          NaN  ...   \n",
      "32861          NaN          NaN          NaN          NaN          NaN  ...   \n",
      "\n",
      "       90564017005  90567017005  90571017005  90576017005  90578017005  \\\n",
      "0              NaN          NaN          NaN          NaN          NaN   \n",
      "1              NaN          NaN          NaN          NaN          NaN   \n",
      "2              NaN          NaN          NaN          NaN          NaN   \n",
      "3              NaN          NaN          NaN          NaN          NaN   \n",
      "4              NaN          NaN          NaN          NaN          NaN   \n",
      "...            ...          ...          ...          ...          ...   \n",
      "32857         0.00         0.00          0.0         0.00         2.00   \n",
      "32858        75.01        68.01          1.0         0.00         2.00   \n",
      "32859       582.36       679.74        507.4       409.53       551.16   \n",
      "32860         0.00         0.00          0.0         0.00         0.00   \n",
      "32861         0.00         0.00          0.0         0.00         0.00   \n",
      "\n",
      "       90581017005  90585017005  90587017005  80005997012  80004887012  \n",
      "0              NaN          NaN          NaN          NaN          NaN  \n",
      "1              NaN          NaN          NaN          NaN          NaN  \n",
      "2              NaN          NaN          NaN          NaN          NaN  \n",
      "3              NaN          NaN          NaN          NaN          NaN  \n",
      "4              NaN          NaN          NaN          NaN          NaN  \n",
      "...            ...          ...          ...          ...          ...  \n",
      "32857         0.00         0.00         0.00         0.00         0.00  \n",
      "32858         0.00         5.00         0.00         2.00         1.00  \n",
      "32859       584.59       571.59       575.91       666.97       404.71  \n",
      "32860         0.00         0.00         0.00         0.00         0.00  \n",
      "32861         0.00         0.00         0.00         0.00         0.00  \n",
      "\n",
      "[630490 rows x 1476 columns]\n"
     ]
    }
   ],
   "source": [
    "print(merged_data)"
   ]
  },
  {
   "cell_type": "markdown",
   "id": "8b3493bb",
   "metadata": {},
   "source": [
    "### Splitting the dataset into X (dependent variable) and Y (independent variable)"
   ]
  },
  {
   "cell_type": "code",
   "execution_count": null,
   "id": "892ca4eb",
   "metadata": {},
   "outputs": [],
   "source": []
  }
 ],
 "metadata": {
  "kernelspec": {
   "display_name": "Python 3 (ipykernel)",
   "language": "python",
   "name": "python3"
  },
  "language_info": {
   "codemirror_mode": {
    "name": "ipython",
    "version": 3
   },
   "file_extension": ".py",
   "mimetype": "text/x-python",
   "name": "python",
   "nbconvert_exporter": "python",
   "pygments_lexer": "ipython3",
   "version": "3.11.4"
  }
 },
 "nbformat": 4,
 "nbformat_minor": 5
}
